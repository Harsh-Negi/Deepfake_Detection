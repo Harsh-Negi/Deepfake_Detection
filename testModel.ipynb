{
 "cells": [
  {
   "cell_type": "code",
   "execution_count": 7,
   "id": "6863c111",
   "metadata": {},
   "outputs": [],
   "source": [
    "from tensorflow.keras.models import model_from_json\n",
    "from keras.preprocessing.image import load_img\n",
    "import numpy as np\n",
    "import matplotlib.pyplot as plt\n",
    "from PIL import Image"
   ]
  },
  {
   "cell_type": "code",
   "execution_count": 8,
   "id": "3c714aa8",
   "metadata": {},
   "outputs": [],
   "source": [
    "json_file = open(\"deepfake11.json\", \"r\")\n",
    "model_json = json_file.read()\n",
    "json_file.close()\n",
    "model = model_from_json(model_json)\n",
    "model.load_weights(\"deepfake11.h5\")"
   ]
  },
  {
   "cell_type": "code",
   "execution_count": 9,
   "id": "b83da8fd",
   "metadata": {},
   "outputs": [],
   "source": [
    "label = [\"Fake\",\"Real\"]"
   ]
  },
  {
   "cell_type": "code",
   "execution_count": 10,
   "id": "0e13492c",
   "metadata": {},
   "outputs": [],
   "source": [
    "def ef(image):\n",
    "    ##img = load_img(image,color_mode=\"grayscale\")\n",
    "    img = Image.open(image)\n",
    "    img = img.convert('L')\n",
    "    new_size = (48,48)\n",
    "    img = img.resize(new_size)\n",
    "    feature = np.array(img)\n",
    "    feature = feature.reshape(1,48,48,1)\n",
    "    return feature/255.0"
   ]
  },
  {
   "cell_type": "code",
   "execution_count": 22,
   "id": "9913f583",
   "metadata": {
    "scrolled": true
   },
   "outputs": [
    {
     "name": "stdout",
     "output_type": "stream",
     "text": [
      "\u001b[1m1/1\u001b[0m \u001b[32m━━━━━━━━━━━━━━━━━━━━\u001b[0m\u001b[37m\u001b[0m \u001b[1m0s\u001b[0m 35ms/step\n",
      "model prediction is  Real\n"
     ]
    },
    {
     "data": {
      "image/png": "[encoded data removed]",
      "text/plain": [
       "<Figure size 640x480 with 1 Axes>"
      ]
     },
     "metadata": {},
     "output_type": "display_data"
    }
   ],
   "source": [
    "image = r'img_dfds\\Validation\\Real\\My_Pic.jpg'\n",
    "rimg = Image.open(image)\n",
    "img = ef(image)\n",
    "pred = model.predict(img)\n",
    "pred_label = label[pred.argmax()]\n",
    "plt.imshow(img.reshape(48,48),cmap='gray')\n",
    "##plt.imshow(rimg)\n",
    "print(\"model prediction is \",pred_label)"
   ]
  },
  {
   "cell_type": "code",
   "execution_count": null,
   "id": "e87f3e5f",
   "metadata": {},
   "outputs": [],
   "source": []
  },
  {
   "cell_type": "code",
   "execution_count": null,
   "id": "0041eba9-1c16-4b29-aba9-9b4b5d990281",
   "metadata": {},
   "outputs": [],
   "source": []
  }
 ],
 "metadata": {
  "kernelspec": {
   "display_name": "Python 3 (ipykernel)",
   "language": "python",
   "name": "python3"
  },
  "language_info": {
   "codemirror_mode": {
    "name": "ipython",
    "version": 3
   },
   "file_extension": ".py",
   "mimetype": "text/x-python",
   "name": "python",
   "nbconvert_exporter": "python",
   "pygments_lexer": "ipython3",
   "version": "3.11.4"
  }
 },
 "nbformat": 4,
 "nbformat_minor": 5
}
